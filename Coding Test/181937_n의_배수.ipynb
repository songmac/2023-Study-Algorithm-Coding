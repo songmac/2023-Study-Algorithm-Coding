{
 "cells": [
  {
   "cell_type": "markdown",
   "metadata": {},
   "source": [
    "# 문제 설명\n",
    "정수 num과 n이 매개 변수로 주어질 때, num이 n의 배수이면 1을 return n의 배수가 아니라면 0을 return하도록 solution 함수를 완성해주세요.\n",
    "\n",
    "제한사항\n",
    "- 2 ≤ num ≤ 100\n",
    "- 2 ≤ n ≤ 9\n"
   ]
  },
  {
   "cell_type": "code",
   "execution_count": 10,
   "metadata": {},
   "outputs": [],
   "source": [
    "num = int(input(\"num: \"))\n",
    "n = int(input(\"n: \"))\n",
    "\n",
    "def solution(num, n) :\n",
    "    if (2 <= num <= 100) & (2 <= n <= 9) :\n",
    "        if num % n == 0 :\n",
    "            return 1\n",
    "        else :\n",
    "            return 0 \n",
    "    else  : \n",
    "        return 0"
   ]
  },
  {
   "cell_type": "code",
   "execution_count": null,
   "metadata": {},
   "outputs": [],
   "source": [
    "# 다른 사람의 풀이\n",
    "# 해석 : num%n은 int 값이지만, 이를 not() 함수 안에 넣으면 \n",
    "# (계속) int가 bool로 해석되어서 num%n이 0이면 False로, 0이 아니면 True\n",
    "def solution(num, n):\n",
    "    return int(not(num % n))\n",
    "\n"
   ]
  }
 ],
 "metadata": {
  "kernelspec": {
   "display_name": "base",
   "language": "python",
   "name": "python3"
  },
  "language_info": {
   "codemirror_mode": {
    "name": "ipython",
    "version": 3
   },
   "file_extension": ".py",
   "mimetype": "text/x-python",
   "name": "python",
   "nbconvert_exporter": "python",
   "pygments_lexer": "ipython3",
   "version": "3.11.5"
  }
 },
 "nbformat": 4,
 "nbformat_minor": 2
}
