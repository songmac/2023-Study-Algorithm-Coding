{
 "cells": [
  {
   "cell_type": "markdown",
   "metadata": {},
   "source": [
    "### 문제 설명 </br>\n",
    "괄호가 바르게 짝지어졌다는 것은 '(' 문자로 열렸으면 반드시 짝지어서 ')' 문자로 닫혀야 한다는 뜻입니다. 예를 들어 </br>\n",
    "\n",
    "    \"()()\" 또는 \"(())()\" 는 올바른 괄호입니다.\n",
    "    \")()(\" 또는 \"(()(\" 는 올바르지 않은 괄호입니다.\n",
    "    '(' 또는 ')' 로만 이루어진 문자열 s가 주어졌을 때, 문자열 s가 올바른 괄호이면 true를 return 하고,\n",
    "    올바르지 않은 괄호이면 false를 return 하는 solution 함수를 완성해 주세요.\n",
    "\n",
    "### 제한사항 </br>\n",
    "문자열 s의 길이 : 100,000 이하의 자연수 </br>\n",
    "문자열 s는 '(' 또는 ')' 로만 이루어져 있습니다. </br>\n",
    "\n",
    "\n",
    "### 입출력 예 </br>\n",
    "    s   |\tanswer\n",
    "    \"()()\"  |\ttrue\n",
    "    \"(())()\"    |\ttrue\n",
    "    \")()(\"  |\tfalse\n",
    "    \"(()(\"  |\tfalse"
   ]
  },
  {
   "cell_type": "code",
   "execution_count": 3,
   "metadata": {},
   "outputs": [
    {
     "name": "stdout",
     "output_type": "stream",
     "text": [
      "False\n"
     ]
    }
   ],
   "source": [
    "# 나의 풀이\n",
    "def solution(s):\n",
    "    while 0 < len(s) <= 100000 :        \n",
    "        for s_factor in s:\n",
    "            if s_factor == '(' or ')':                \n",
    "                if s[len(s)-1] == ')':\n",
    "                    return True\n",
    "                elif s[len(s)-1] == '(':\n",
    "                    return False\n",
    "            else :\n",
    "                break\n",
    "\n",
    "s = input(str())\n",
    "print(solution(s))"
   ]
  },
  {
   "cell_type": "code",
   "execution_count": 2,
   "metadata": {},
   "outputs": [
    {
     "name": "stdout",
     "output_type": "stream",
     "text": [
      "False\n"
     ]
    }
   ],
   "source": [
    "# 해답\n",
    "def solution(s):\n",
    "    balance = 0  # 균형을 확인하는 변수\n",
    "    for char in s:  # 문자열 s의 각 문자를 순회\n",
    "        if char == '(':  # 여는 괄호인 경우\n",
    "            balance += 1\n",
    "        else:  # 닫는 괄호인 경우\n",
    "            balance -= 1\n",
    "            if balance < 0:  # balance가 음수이면 닫는 괄호가 더 많음 \n",
    "                return False  # 짝이 맞지 않으므로 False 반환 \n",
    "    \"\"\" \n",
    "    Q. balance > 0 인 경우 왜 안따질까?\n",
    "    A. 최종적으로 balance == 0이 아니면, 자동으로 balance > 0인 경우도 False를 반환하는 조건에 포함\n",
    "    \"\"\"     \n",
    "    return balance == 0  # balance가 0이면 짝이 맞으므로 True, 아니면 False\n",
    "\n",
    "\n",
    "s = input()\n",
    "print(solution(s))  # 결과 출력"
   ]
  }
 ],
 "metadata": {
  "kernelspec": {
   "display_name": "Python 3",
   "language": "python",
   "name": "python3"
  },
  "language_info": {
   "codemirror_mode": {
    "name": "ipython",
    "version": 3
   },
   "file_extension": ".py",
   "mimetype": "text/x-python",
   "name": "python",
   "nbconvert_exporter": "python",
   "pygments_lexer": "ipython3",
   "version": "3.12.2"
  }
 },
 "nbformat": 4,
 "nbformat_minor": 2
}
