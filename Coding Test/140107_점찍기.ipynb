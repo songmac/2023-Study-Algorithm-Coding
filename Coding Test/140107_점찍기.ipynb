{
 "cells": [
  {
   "cell_type": "markdown",
   "metadata": {},
   "source": [
    "### 문제 설명 </br>\n",
    "    좌표평면을 좋아하는 진수는 x축과 y축이 직교하는 2차원 좌표평면에 점을 찍으면서 놀고 있습니다. 진수는 두 양의 정수 k, d가 주어질 때 다음과 같이 점을 찍으려 합니다.\n",
    "\n",
    "    원점(0, 0)으로부터 x축 방향으로 a*k(a = 0, 1, 2, 3 ...), y축 방향으로 b*k(b = 0, 1, 2, 3 ...)만큼 떨어진 위치에 점을 찍습니다.\n",
    "    원점과 거리가 d를 넘는 위치에는 점을 찍지 않습니다.\n",
    "    예를 들어, k가 2, d가 4인 경우에는 (0, 0), (0, 2), (0, 4), (2, 0), (2, 2), (4, 0) 위치에 점을 찍어 총 6개의 점을 찍습니다.\n",
    "\n",
    "    정수 k와 원점과의 거리를 나타내는 정수 d가 주어졌을 때, 점이 총 몇 개 찍히는지 return 하는 solution 함수를 완성하세요.\n",
    "\n",
    "### 제한사항  </br>\n",
    "    1 ≤ k ≤ 1,000,000\n",
    "    1 ≤ d ≤ 1,000,000\n",
    "\n",
    "### 입출력 예  </br>\n",
    "    k\td\tresult\n",
    "    2\t4\t6\n",
    "    1\t5\t26"
   ]
  },
  {
   "cell_type": "code",
   "execution_count": null,
   "metadata": {},
   "outputs": [],
   "source": [
    "import math as m\n",
    "\n",
    "def solution(k, d):\n",
    "    \"\"\"\n",
    "    두 수 a와 b의 k번째 거듭제곱의 합 a^k+b^k이 제곱수(square number)인 경우를 찾는 것\n",
    "    \"\"\"\n",
    "    answer = 0\n",
    "    for a in range(d + 1):  # a의 범위를 0부터 d까지 설정\n",
    "        for b in range(d + 1):  # b의 범위를 0부터 d까지 설정\n",
    "            # a^k + b^k의 값이 제곱수인지 확인\n",
    "            if m.isqrt(a**k + b**k)**2 == a**k + b**k:\n",
    "                answer += 1  # 조건을 만족하면 answer를 1 증가시킴\n",
    "                \n",
    "    return answer"
   ]
  }
 ],
 "metadata": {
  "language_info": {
   "name": "python"
  }
 },
 "nbformat": 4,
 "nbformat_minor": 2
}
